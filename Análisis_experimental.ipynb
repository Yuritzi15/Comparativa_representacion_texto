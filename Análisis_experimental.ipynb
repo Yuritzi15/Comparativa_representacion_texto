{
  "nbformat": 4,
  "nbformat_minor": 0,
  "metadata": {
    "colab": {
      "provenance": []
    },
    "kernelspec": {
      "name": "python3",
      "display_name": "Python 3"
    },
    "language_info": {
      "name": "python"
    }
  },
  "cells": [
    {
      "cell_type": "markdown",
      "source": [
        "# **Análisis comparativo de las diferentes técnicas de representación de texto**"
      ],
      "metadata": {
        "id": "lzpnY6aFssIf"
      }
    },
    {
      "cell_type": "code",
      "source": [
        "import numpy as np\n",
        "import pandas as pd\n",
        "import os\n",
        "import pickle\n",
        "import re\n",
        "import csv"
      ],
      "metadata": {
        "id": "KM6CqtpQXx9F"
      },
      "execution_count": null,
      "outputs": []
    },
    {
      "cell_type": "code",
      "execution_count": null,
      "metadata": {
        "id": "yltnEgoZXhgh"
      },
      "outputs": [],
      "source": [
        "import matplotlib.pyplot as plt\n",
        "import seaborn as sns\n",
        "from scipy.stats import norm"
      ]
    },
    {
      "cell_type": "code",
      "source": [
        "from scipy import stats\n",
        "!pip install pingouin\n",
        "import pingouin as pg"
      ],
      "metadata": {
        "colab": {
          "base_uri": "https://localhost:8080/"
        },
        "id": "fYSdDZkVXlBx",
        "outputId": "867aad54-e783-4e00-d5c0-dcc7fe7b1892"
      },
      "execution_count": null,
      "outputs": [
        {
          "output_type": "stream",
          "name": "stdout",
          "text": [
            "Requirement already satisfied: pingouin in /usr/local/lib/python3.12/dist-packages (0.5.5)\n",
            "Requirement already satisfied: matplotlib in /usr/local/lib/python3.12/dist-packages (from pingouin) (3.10.0)\n",
            "Requirement already satisfied: numpy in /usr/local/lib/python3.12/dist-packages (from pingouin) (2.0.2)\n",
            "Requirement already satisfied: pandas>=1.5 in /usr/local/lib/python3.12/dist-packages (from pingouin) (2.2.2)\n",
            "Requirement already satisfied: pandas-flavor in /usr/local/lib/python3.12/dist-packages (from pingouin) (0.7.0)\n",
            "Requirement already satisfied: scikit-learn>=1.2 in /usr/local/lib/python3.12/dist-packages (from pingouin) (1.6.1)\n",
            "Requirement already satisfied: scipy in /usr/local/lib/python3.12/dist-packages (from pingouin) (1.16.1)\n",
            "Requirement already satisfied: seaborn in /usr/local/lib/python3.12/dist-packages (from pingouin) (0.13.2)\n",
            "Requirement already satisfied: statsmodels in /usr/local/lib/python3.12/dist-packages (from pingouin) (0.14.5)\n",
            "Requirement already satisfied: tabulate in /usr/local/lib/python3.12/dist-packages (from pingouin) (0.9.0)\n",
            "Requirement already satisfied: python-dateutil>=2.8.2 in /usr/local/lib/python3.12/dist-packages (from pandas>=1.5->pingouin) (2.9.0.post0)\n",
            "Requirement already satisfied: pytz>=2020.1 in /usr/local/lib/python3.12/dist-packages (from pandas>=1.5->pingouin) (2025.2)\n",
            "Requirement already satisfied: tzdata>=2022.7 in /usr/local/lib/python3.12/dist-packages (from pandas>=1.5->pingouin) (2025.2)\n",
            "Requirement already satisfied: joblib>=1.2.0 in /usr/local/lib/python3.12/dist-packages (from scikit-learn>=1.2->pingouin) (1.5.1)\n",
            "Requirement already satisfied: threadpoolctl>=3.1.0 in /usr/local/lib/python3.12/dist-packages (from scikit-learn>=1.2->pingouin) (3.6.0)\n",
            "Requirement already satisfied: contourpy>=1.0.1 in /usr/local/lib/python3.12/dist-packages (from matplotlib->pingouin) (1.3.3)\n",
            "Requirement already satisfied: cycler>=0.10 in /usr/local/lib/python3.12/dist-packages (from matplotlib->pingouin) (0.12.1)\n",
            "Requirement already satisfied: fonttools>=4.22.0 in /usr/local/lib/python3.12/dist-packages (from matplotlib->pingouin) (4.59.1)\n",
            "Requirement already satisfied: kiwisolver>=1.3.1 in /usr/local/lib/python3.12/dist-packages (from matplotlib->pingouin) (1.4.9)\n",
            "Requirement already satisfied: packaging>=20.0 in /usr/local/lib/python3.12/dist-packages (from matplotlib->pingouin) (25.0)\n",
            "Requirement already satisfied: pillow>=8 in /usr/local/lib/python3.12/dist-packages (from matplotlib->pingouin) (11.3.0)\n",
            "Requirement already satisfied: pyparsing>=2.3.1 in /usr/local/lib/python3.12/dist-packages (from matplotlib->pingouin) (3.2.3)\n",
            "Requirement already satisfied: xarray in /usr/local/lib/python3.12/dist-packages (from pandas-flavor->pingouin) (2025.8.0)\n",
            "Requirement already satisfied: patsy>=0.5.6 in /usr/local/lib/python3.12/dist-packages (from statsmodels->pingouin) (1.0.1)\n",
            "Requirement already satisfied: six>=1.5 in /usr/local/lib/python3.12/dist-packages (from python-dateutil>=2.8.2->pandas>=1.5->pingouin) (1.17.0)\n"
          ]
        }
      ]
    },
    {
      "cell_type": "code",
      "source": [
        "from sklearn.model_selection import train_test_split\n",
        "from sklearn.ensemble import RandomForestClassifier\n",
        "from sklearn.metrics import classification_report"
      ],
      "metadata": {
        "id": "YOTi4zgIXs4n"
      },
      "execution_count": null,
      "outputs": []
    },
    {
      "cell_type": "markdown",
      "source": [
        "#**Paso 1: Cargar datos**"
      ],
      "metadata": {
        "id": "TTFmduM2ZNJv"
      }
    },
    {
      "cell_type": "code",
      "source": [
        "from google.colab import files\n",
        "import io\n",
        "\n",
        "from google.colab import drive\n",
        "drive.mount('/content/drive/')\n",
        "%cd '/content/drive/My Drive/Colab Notebooks/Doctorado_Clases/NLP/TopTam'"
      ],
      "metadata": {
        "colab": {
          "base_uri": "https://localhost:8080/"
        },
        "id": "EXAtdW7RXvZ2",
        "outputId": "db8441ec-08bc-4ab5-b6fa-3f99700cf1ee"
      },
      "execution_count": null,
      "outputs": [
        {
          "output_type": "stream",
          "name": "stdout",
          "text": [
            "Drive already mounted at /content/drive/; to attempt to forcibly remount, call drive.mount(\"/content/drive/\", force_remount=True).\n",
            "/content/drive/My Drive/Colab Notebooks/Doctorado_Clases/NLP/TopTam\n"
          ]
        }
      ]
    },
    {
      "cell_type": "code",
      "source": [
        "df = pd.read_csv('df_embeddings_final.tsv', sep=\"\\t\")"
      ],
      "metadata": {
        "id": "PSO1KXF-YXgl"
      },
      "execution_count": null,
      "outputs": []
    },
    {
      "cell_type": "code",
      "source": [
        "print(df)"
      ],
      "metadata": {
        "colab": {
          "base_uri": "https://localhost:8080/"
        },
        "id": "APBd97z4YgU6",
        "outputId": "d1cfa549-69ea-4a25-f77d-7f551a479bbc"
      },
      "execution_count": null,
      "outputs": [
        {
          "output_type": "stream",
          "name": "stdout",
          "text": [
            "                                                  text  class  \\\n",
            "0    The transfer shall take place in such a manner...      0   \n",
            "1    The BE shall receive via MC State Count data p...      0   \n",
            "2    This includes Lag Frame destination addresses ...      0   \n",
            "3    Formatted Output The BE shall deliver formatte...      0   \n",
            "4    The BE shall produce all data needed by the ee...      0   \n",
            "..                                                 ...    ...   \n",
            "544  Therefore any authorized user should be able t...      1   \n",
            "545  meeting during office hours private activities...      1   \n",
            "546  FLEXIBLE Rescheduling of a meeting should be d...      1   \n",
            "547  Also the system should be flexible enough to a...      1   \n",
            "548  the sets of concerned participants be varying ...      1   \n",
            "\n",
            "                                                tokens  \\\n",
            "0    ['transfer', 'shall', 'take', 'place', 'manner...   \n",
            "1    ['shall', 'receiv', 'via', 'mc', 'state', 'cou...   \n",
            "2    ['includ', 'lag', 'frame', 'destin', 'address'...   \n",
            "3    ['format', 'output', 'shall', 'deliv', 'format...   \n",
            "4    ['shall', 'produc', 'data', 'need', 'ee', 'sys...   \n",
            "..                                                 ...   \n",
            "544  ['therefor', 'author', 'user', 'abl', 'request...   \n",
            "545  ['meet', 'offic', 'hour', 'privat', 'activ', '...   \n",
            "546  ['flexibl', 'reschedul', 'meet', 'done', 'dyna...   \n",
            "547  ['also', 'system', 'flexibl', 'enough', 'accom...   \n",
            "548  ['set', 'concern', 'particip', 'vari', 'addres...   \n",
            "\n",
            "                                          vectores_bow  \\\n",
            "0    [0, 0, 0, 0, 0, 0, 0, 0, 0, 0, 0, 0, 0, 0, 0, ...   \n",
            "1    [0, 0, 0, 0, 0, 0, 0, 0, 0, 0, 0, 0, 0, 0, 0, ...   \n",
            "2    [0, 0, 0, 0, 0, 0, 0, 0, 0, 0, 0, 0, 0, 0, 0, ...   \n",
            "3    [0, 0, 0, 0, 0, 0, 0, 0, 0, 0, 0, 0, 0, 0, 0, ...   \n",
            "4    [0, 0, 0, 0, 0, 0, 0, 0, 0, 0, 0, 0, 0, 0, 0, ...   \n",
            "..                                                 ...   \n",
            "544  [0, 0, 1, 0, 0, 0, 0, 0, 0, 0, 0, 0, 0, 0, 0, ...   \n",
            "545  [0, 0, 0, 0, 0, 0, 0, 0, 0, 0, 0, 0, 0, 0, 0, ...   \n",
            "546  [0, 0, 0, 0, 0, 0, 0, 0, 0, 0, 0, 0, 0, 0, 0, ...   \n",
            "547  [0, 0, 0, 0, 0, 0, 0, 1, 0, 0, 0, 0, 0, 0, 0, ...   \n",
            "548  [0, 0, 0, 0, 0, 0, 0, 0, 0, 0, 0, 0, 0, 0, 1, ...   \n",
            "\n",
            "                                                 tfidf  \\\n",
            "0    [0.0, 0.0, 0.0, 0.0, 0.0, 0.0, 0.0, 0.0, 0.0, ...   \n",
            "1    [0.0, 0.0, 0.0, 0.0, 0.0, 0.0, 0.0, 0.0, 0.0, ...   \n",
            "2    [0.0, 0.0, 0.0, 0.0, 0.0, 0.0, 0.0, 0.0, 0.0, ...   \n",
            "3    [0.0, 0.0, 0.0, 0.0, 0.0, 0.0, 0.0, 0.0, 0.0, ...   \n",
            "4    [0.0, 0.0, 0.0, 0.0, 0.0, 0.0, 0.0, 0.0, 0.0, ...   \n",
            "..                                                 ...   \n",
            "544  [0.0, 0.0, 0.09584301744325538, 0.0, 0.0, 0.0,...   \n",
            "545  [0.0, 0.0, 0.0, 0.0, 0.0, 0.0, 0.0, 0.0, 0.0, ...   \n",
            "546  [0.0, 0.0, 0.0, 0.0, 0.0, 0.0, 0.0, 0.0, 0.0, ...   \n",
            "547  [0.0, 0.0, 0.0, 0.0, 0.0, 0.0, 0.0, 0.56454237...   \n",
            "548  [0.0, 0.0, 0.0, 0.0, 0.0, 0.0, 0.0, 0.0, 0.0, ...   \n",
            "\n",
            "                                        cbow_embedding  \\\n",
            "0    [-0.15086073  0.08026971 -0.16056339 -0.159590...   \n",
            "1    [ 0.14809374 -0.01311877  0.09991417 -0.317535...   \n",
            "2    [ 0.16852129 -0.53347974 -0.39239232  0.055017...   \n",
            "3    [ 9.54128110e-02 -1.66781735e-02 -1.45015530e-...   \n",
            "4    [-0.07299378 -0.07081223  0.18439832 -0.130760...   \n",
            "..                                                 ...   \n",
            "544  [ 0.06166188 -0.01751696  0.15805092 -0.128829...   \n",
            "545  [ 0.10440482  0.17936522  0.02574152  0.052233...   \n",
            "546  [-0.20254875  0.10937739  0.22427316 -0.068000...   \n",
            "547  [ 0.01053936 -0.12440494  0.06284131 -0.027267...   \n",
            "548  [-0.07828145  0.0088412  -0.14692591  0.254458...   \n",
            "\n",
            "                                    skipgram_embedding  \\\n",
            "0    [-0.85087622  0.29971347 -0.9850514  -0.089931...   \n",
            "1    [-2.17119342  2.70541476 -6.74423553  0.614604...   \n",
            "2    [ 0.80046013  0.87956127 -2.99345336 -0.476023...   \n",
            "3    [-8.39480513e-02  8.63474268e-01 -1.87903167e+...   \n",
            "4    [-0.2607098  -0.04004751 -1.17056012  0.392094...   \n",
            "..                                                 ...   \n",
            "544  [-1.35752263 -0.09249835 -1.89462233 -0.518795...   \n",
            "545  [-8.43151300e-01  2.17180675e-01 -6.25382363e-...   \n",
            "546  [-9.21086283e-01 -3.45272607e-01 -1.01979387e+...   \n",
            "547  [-0.75568516 -0.26765905 -1.17731513  0.031643...   \n",
            "548  [-2.26982558  0.13028804 -0.49688416 -0.392086...   \n",
            "\n",
            "                                    fasttext_embedding  \\\n",
            "0    [ -3.66190561  -7.72370206   3.95878436   9.54...   \n",
            "1    [  0.23368628  -6.36707692  21.29733635  33.28...   \n",
            "2    [  2.34089167 -13.27756762  25.50941045  16.80...   \n",
            "3    [-8.23902879e+00  2.30596226e+00  4.41108809e-...   \n",
            "4    [-1.66371397 -0.51737447  0.78769051  4.857919...   \n",
            "..                                                 ...   \n",
            "544  [ -3.03402594  -8.85696019  13.31910448   8.19...   \n",
            "545  [ -3.67902796  -6.47286165   4.00981907   3.93...   \n",
            "546  [-0.04884741 -1.07888122  0.5959704   2.056895...   \n",
            "547  [ 2.87823296 -3.34527216 -0.81169632 -0.201435...   \n",
            "548  [ -1.15521123  -7.44318557   8.28537623  17.78...   \n",
            "\n",
            "                                       glove_embedding  \n",
            "0    [ 0.2196862   0.51020765  0.43847624 -0.154435...  \n",
            "1    [ 0.07790063  0.05016794 -0.73259002 -0.571908...  \n",
            "2    [-0.61897671  0.44750897  0.92113916 -0.352663...  \n",
            "3    [-3.13608863e-01  1.48330673e-01 -4.46298486e-...  \n",
            "4    [-0.32790303 -0.02459297  0.00566345 -0.143299...  \n",
            "..                                                 ...  \n",
            "544  [-1.21971161 -0.7881344   0.03755696 -0.061426...  \n",
            "545  [-0.04772659  0.3439429   0.13782365  0.221143...  \n",
            "546  [ 0.03924868  0.09383709  0.1816215   0.121377...  \n",
            "547  [ 0.01339803  0.10050613 -0.08915809  0.327833...  \n",
            "548  [-0.47242941 -0.16433343 -0.1735843  -0.185325...  \n",
            "\n",
            "[549 rows x 9 columns]\n"
          ]
        }
      ]
    },
    {
      "cell_type": "markdown",
      "source": [
        "# **Paso 2: División de los datos de entrenamiento, validación y prueba**"
      ],
      "metadata": {
        "id": "yr5avHMJZQMM"
      }
    },
    {
      "cell_type": "code",
      "source": [
        "train_df, test_df = train_test_split(df, test_size=0.2, random_state=42)\n",
        "train_df, val_df = train_test_split(train_df, test_size=0.2, random_state=42)"
      ],
      "metadata": {
        "id": "fk1HNy03P5zV"
      },
      "execution_count": null,
      "outputs": []
    },
    {
      "cell_type": "code",
      "source": [
        "print(train_df.shape)\n",
        "print(val_df.shape)\n",
        "print(test_df.shape)"
      ],
      "metadata": {
        "colab": {
          "base_uri": "https://localhost:8080/"
        },
        "id": "1NtmeWgjb6XP",
        "outputId": "3e5e2ea6-d1f7-4fd1-f9a0-06d6a99f851e"
      },
      "execution_count": null,
      "outputs": [
        {
          "output_type": "stream",
          "name": "stdout",
          "text": [
            "(351, 9)\n",
            "(88, 9)\n",
            "(110, 9)\n"
          ]
        }
      ]
    },
    {
      "cell_type": "code",
      "source": [
        "##Descomentar en caso de querer guardarlos\n",
        "# train_df.to_csv('train_df.tsv', sep='\\t', index=False)\n",
        "# val_df.to_csv('val_df.tsv', sep='\\t', index=False)\n",
        "# test_df.to_csv('test_df.tsv', sep='\\t', index=False)"
      ],
      "metadata": {
        "id": "zCzZjGbeck32"
      },
      "execution_count": null,
      "outputs": []
    },
    {
      "cell_type": "markdown",
      "source": [
        "### Datos de entrenamiento y prueba BOW"
      ],
      "metadata": {
        "id": "N5tufY6K60Fc"
      }
    },
    {
      "cell_type": "code",
      "source": [
        "X_train_bow = train_df['vectores_bow'].apply(lambda x: np.array(eval(x))).tolist()\n",
        "y_train_bow = train_df['class'].to_list()"
      ],
      "metadata": {
        "id": "Dwt4HW6udIme"
      },
      "execution_count": null,
      "outputs": []
    },
    {
      "cell_type": "code",
      "source": [
        "X_val_bow = val_df['vectores_bow'].apply(lambda x: np.array(eval(x))).tolist()\n",
        "y_val_bow = val_df['class'].to_list()"
      ],
      "metadata": {
        "id": "w117VrBGenyW"
      },
      "execution_count": null,
      "outputs": []
    },
    {
      "cell_type": "code",
      "source": [
        "X_test_bow = test_df['vectores_bow'].apply(lambda x: np.array(eval(x))).tolist()\n",
        "y_test = test_df['class'].to_list()"
      ],
      "metadata": {
        "id": "BIKxOsKRerDx"
      },
      "execution_count": null,
      "outputs": []
    },
    {
      "cell_type": "markdown",
      "source": [
        "### Datos de entrenamiento y prueba TF-IDF"
      ],
      "metadata": {
        "id": "aH5J6Qh27_df"
      }
    },
    {
      "cell_type": "code",
      "source": [
        "X_train_tfidf = train_df['tfidf'].apply(lambda x: np.array(eval(x))).tolist()\n",
        "y_train_tfidf = train_df['class'].to_list()"
      ],
      "metadata": {
        "id": "jbE4LEvD7_dg"
      },
      "execution_count": null,
      "outputs": []
    },
    {
      "cell_type": "code",
      "source": [
        "X_val_tfidf = val_df['tfidf'].apply(lambda x: np.array(eval(x))).tolist()\n",
        "y_val_tfidf = val_df['class'].to_list()"
      ],
      "metadata": {
        "id": "Ya5-ErFQ7_dh"
      },
      "execution_count": null,
      "outputs": []
    },
    {
      "cell_type": "code",
      "source": [
        "X_test_tfidf = test_df['tfidf'].apply(lambda x: np.array(eval(x))).tolist()"
      ],
      "metadata": {
        "id": "LCd7tUxU7_dh"
      },
      "execution_count": null,
      "outputs": []
    },
    {
      "cell_type": "markdown",
      "source": [
        "### Datos de entrenamiento y prueba Word2Vec (CBOW)"
      ],
      "metadata": {
        "id": "NrgXIOvA8JbY"
      }
    },
    {
      "cell_type": "code",
      "source": [
        "X_train_cbow = train_df['cbow_embedding'].apply(\n",
        "    lambda x: np.array(x.strip(\"[]\").split(), dtype=float)\n",
        ").tolist()\n",
        "\n",
        "y_train_cbow = train_df['class'].to_list()"
      ],
      "metadata": {
        "id": "2G5MujUj8JbZ"
      },
      "execution_count": null,
      "outputs": []
    },
    {
      "cell_type": "code",
      "source": [
        "X_val_cbow = val_df['cbow_embedding'].apply(\n",
        "    lambda x: np.array(x.strip(\"[]\").split(), dtype=float)\n",
        ").tolist()\n",
        "\n",
        "y_val_cbow = val_df['class'].to_list()"
      ],
      "metadata": {
        "id": "vrg6p-rT8JbZ"
      },
      "execution_count": null,
      "outputs": []
    },
    {
      "cell_type": "code",
      "source": [
        "X_test_cbow = test_df['cbow_embedding'].apply(\n",
        "    lambda x: np.array(x.strip(\"[]\").split(), dtype=float)\n",
        ").tolist()\n"
      ],
      "metadata": {
        "id": "NuHJzZLy8JbZ"
      },
      "execution_count": null,
      "outputs": []
    },
    {
      "cell_type": "markdown",
      "source": [
        "### Datos de entrenamiento y prueba Word2Vec (Skip-gram)"
      ],
      "metadata": {
        "id": "they3q1k9II5"
      }
    },
    {
      "cell_type": "code",
      "source": [
        "X_train_skipgram = train_df['skipgram_embedding'].apply(\n",
        "    lambda x: np.array(x.strip(\"[]\").split(), dtype=float)\n",
        ").tolist()\n",
        "\n",
        "y_train_skipgram = train_df['class'].to_list()"
      ],
      "metadata": {
        "id": "YRIQBuPG9II5"
      },
      "execution_count": null,
      "outputs": []
    },
    {
      "cell_type": "code",
      "source": [
        "X_val_skipgram = val_df['skipgram_embedding'].apply(\n",
        "    lambda x: np.array(x.strip(\"[]\").split(), dtype=float)\n",
        ").tolist()\n",
        "\n",
        "y_val_skipgram = val_df['class'].to_list()"
      ],
      "metadata": {
        "id": "Bwn_33DI9II5"
      },
      "execution_count": null,
      "outputs": []
    },
    {
      "cell_type": "code",
      "source": [
        "X_test_skipgram = test_df['skipgram_embedding'].apply(\n",
        "    lambda x: np.array(x.strip(\"[]\").split(), dtype=float)\n",
        ").tolist()\n"
      ],
      "metadata": {
        "id": "XwNu0lNv9II6"
      },
      "execution_count": null,
      "outputs": []
    },
    {
      "cell_type": "markdown",
      "source": [
        "### Datos de entrenamiento y prueba FastText"
      ],
      "metadata": {
        "id": "jtaKtPcgLbrK"
      }
    },
    {
      "cell_type": "code",
      "source": [
        "X_train_fasttext = train_df['fasttext_embedding'].apply(\n",
        "    lambda x: np.array(x.strip(\"[]\").split(), dtype=float)\n",
        ").tolist()\n",
        "\n",
        "y_train_fasttext = train_df['class'].to_list()"
      ],
      "metadata": {
        "id": "TPFfyhFzLbrL"
      },
      "execution_count": null,
      "outputs": []
    },
    {
      "cell_type": "code",
      "source": [
        "X_val_fasttext = val_df['fasttext_embedding'].apply(\n",
        "    lambda x: np.array(x.strip(\"[]\").split(), dtype=float)\n",
        ").tolist()\n",
        "\n",
        "y_val_fasttext = val_df['class'].to_list()"
      ],
      "metadata": {
        "id": "d3vSIalwLbrM"
      },
      "execution_count": null,
      "outputs": []
    },
    {
      "cell_type": "code",
      "source": [
        "X_test_fasttext = test_df['fasttext_embedding'].apply(\n",
        "    lambda x: np.array(x.strip(\"[]\").split(), dtype=float)\n",
        ").tolist()\n"
      ],
      "metadata": {
        "id": "cnUAD_vfLbrM"
      },
      "execution_count": null,
      "outputs": []
    },
    {
      "cell_type": "markdown",
      "source": [
        "### Datos de entrenamiento y prueba GloVe"
      ],
      "metadata": {
        "id": "LQWRYOKpL8a1"
      }
    },
    {
      "cell_type": "code",
      "source": [
        "X_train_glove = train_df['glove_embedding'].apply(\n",
        "    lambda x: np.array(x.strip(\"[]\").split(), dtype=float)\n",
        ").tolist()\n",
        "\n",
        "y_train_glove = train_df['class'].to_list()"
      ],
      "metadata": {
        "id": "-eVpPhBlL8a1"
      },
      "execution_count": null,
      "outputs": []
    },
    {
      "cell_type": "code",
      "source": [
        "X_val_glove = val_df['glove_embedding'].apply(\n",
        "    lambda x: np.array(x.strip(\"[]\").split(), dtype=float)\n",
        ").tolist()\n",
        "\n",
        "y_val_glove = val_df['class'].to_list()"
      ],
      "metadata": {
        "id": "6DewCi7ML8a2"
      },
      "execution_count": null,
      "outputs": []
    },
    {
      "cell_type": "code",
      "source": [
        "X_test_glove = test_df['glove_embedding'].apply(\n",
        "    lambda x: np.array(x.strip(\"[]\").split(), dtype=float)\n",
        ").tolist()\n"
      ],
      "metadata": {
        "id": "myvM_NK3L8a2"
      },
      "execution_count": null,
      "outputs": []
    },
    {
      "cell_type": "markdown",
      "source": [
        "# **Paso 3: Obtención los modelos**\n",
        "\n",
        "*   BoW\n",
        "*   TF-IDF\n",
        "*   Word2Vec (CBOW)\n",
        "*   Word2Vec (Skip-gram)\n",
        "*   FastText\n",
        "*   GloVe\n",
        "\n"
      ],
      "metadata": {
        "id": "5fbtp0sVeNUY"
      }
    },
    {
      "cell_type": "markdown",
      "source": [
        "### Modelo BoW"
      ],
      "metadata": {
        "id": "VxKRLDcF-OYg"
      }
    },
    {
      "cell_type": "code",
      "source": [
        "model_bow = RandomForestClassifier(random_state=42)\n",
        "model_bow.fit(X_train_bow, y_train_bow)\n",
        "y_pred_bow = model_bow.predict(X_val_bow)\n",
        "print(classification_report(y_val_bow, y_pred_bow))"
      ],
      "metadata": {
        "colab": {
          "base_uri": "https://localhost:8080/"
        },
        "id": "IYsq6EAtc73r",
        "outputId": "77a39b5b-1993-45b4-fd20-61c1f6060a30"
      },
      "execution_count": null,
      "outputs": [
        {
          "output_type": "stream",
          "name": "stdout",
          "text": [
            "              precision    recall  f1-score   support\n",
            "\n",
            "           0       0.91      0.67      0.77        48\n",
            "           1       0.70      0.93      0.80        40\n",
            "\n",
            "    accuracy                           0.78        88\n",
            "   macro avg       0.81      0.80      0.78        88\n",
            "weighted avg       0.82      0.78      0.78        88\n",
            "\n"
          ]
        }
      ]
    },
    {
      "cell_type": "markdown",
      "source": [
        "### Modelo TF-IDF"
      ],
      "metadata": {
        "id": "BnFz-I4v-V-q"
      }
    },
    {
      "cell_type": "code",
      "source": [
        "model_tfidf = RandomForestClassifier(random_state=42)\n",
        "model_tfidf.fit(X_train_tfidf, y_train_tfidf)\n",
        "y_pred_tfidf = model_tfidf.predict(X_val_tfidf)\n",
        "print(classification_report(y_val_tfidf, y_pred_tfidf))"
      ],
      "metadata": {
        "colab": {
          "base_uri": "https://localhost:8080/"
        },
        "outputId": "f81a9110-0804-4d88-82a6-9c77928182e7",
        "id": "HKoOXsCj-V-q"
      },
      "execution_count": null,
      "outputs": [
        {
          "output_type": "stream",
          "name": "stdout",
          "text": [
            "              precision    recall  f1-score   support\n",
            "\n",
            "           0       0.97      0.60      0.74        48\n",
            "           1       0.67      0.97      0.80        40\n",
            "\n",
            "    accuracy                           0.77        88\n",
            "   macro avg       0.82      0.79      0.77        88\n",
            "weighted avg       0.83      0.77      0.77        88\n",
            "\n"
          ]
        }
      ]
    },
    {
      "cell_type": "markdown",
      "source": [
        "### Modelo Word2Vec CBOW"
      ],
      "metadata": {
        "id": "GoRRoew-DLyj"
      }
    },
    {
      "cell_type": "code",
      "source": [
        "model_cbow = RandomForestClassifier(random_state=42)\n",
        "model_cbow.fit(X_train_cbow, y_train_cbow)\n",
        "y_pred_cbow = model_cbow.predict(X_val_cbow)\n",
        "print(classification_report(y_val_cbow, y_pred_cbow))"
      ],
      "metadata": {
        "colab": {
          "base_uri": "https://localhost:8080/"
        },
        "outputId": "4e05355a-6a27-4622-8b50-cf8899a6926c",
        "id": "H9IZW7orDLyj"
      },
      "execution_count": null,
      "outputs": [
        {
          "output_type": "stream",
          "name": "stdout",
          "text": [
            "              precision    recall  f1-score   support\n",
            "\n",
            "           0       0.84      0.56      0.68        48\n",
            "           1       0.62      0.88      0.73        40\n",
            "\n",
            "    accuracy                           0.70        88\n",
            "   macro avg       0.73      0.72      0.70        88\n",
            "weighted avg       0.74      0.70      0.70        88\n",
            "\n"
          ]
        }
      ]
    },
    {
      "cell_type": "markdown",
      "source": [
        "### Modelo Word2Vec Skipgram"
      ],
      "metadata": {
        "id": "AosfZY3oDgdD"
      }
    },
    {
      "cell_type": "code",
      "source": [
        "model_skipgram = RandomForestClassifier(random_state=42)\n",
        "model_skipgram.fit(X_train_skipgram, y_train_skipgram)\n",
        "y_pred_skipgram = model_skipgram.predict(X_val_skipgram)\n",
        "print(classification_report(y_val_skipgram, y_pred_skipgram))"
      ],
      "metadata": {
        "colab": {
          "base_uri": "https://localhost:8080/"
        },
        "outputId": "c29a2cfb-b0e1-4dab-ad55-c90c60aa485b",
        "id": "sFxkZFG9DgdE"
      },
      "execution_count": null,
      "outputs": [
        {
          "output_type": "stream",
          "name": "stdout",
          "text": [
            "              precision    recall  f1-score   support\n",
            "\n",
            "           0       0.97      0.73      0.83        48\n",
            "           1       0.75      0.97      0.85        40\n",
            "\n",
            "    accuracy                           0.84        88\n",
            "   macro avg       0.86      0.85      0.84        88\n",
            "weighted avg       0.87      0.84      0.84        88\n",
            "\n"
          ]
        }
      ]
    },
    {
      "cell_type": "markdown",
      "source": [
        "### Modelo FastText"
      ],
      "metadata": {
        "id": "mVxFfaXuMIiB"
      }
    },
    {
      "cell_type": "code",
      "source": [
        "model_fasttext = RandomForestClassifier(random_state=42)\n",
        "model_fasttext.fit(X_train_fasttext, y_train_fasttext)\n",
        "y_pred_fasttext = model_fasttext.predict(X_val_fasttext)\n",
        "print(classification_report(y_val_fasttext, y_pred_fasttext))"
      ],
      "metadata": {
        "colab": {
          "base_uri": "https://localhost:8080/"
        },
        "outputId": "0a54e089-50e9-4700-c723-e5045cdbfde8",
        "id": "wXWe_XszMIiB"
      },
      "execution_count": null,
      "outputs": [
        {
          "output_type": "stream",
          "name": "stdout",
          "text": [
            "              precision    recall  f1-score   support\n",
            "\n",
            "           0       0.97      0.75      0.85        48\n",
            "           1       0.76      0.97      0.86        40\n",
            "\n",
            "    accuracy                           0.85        88\n",
            "   macro avg       0.87      0.86      0.85        88\n",
            "weighted avg       0.88      0.85      0.85        88\n",
            "\n"
          ]
        }
      ]
    },
    {
      "cell_type": "markdown",
      "source": [
        "### Modelo GloVe"
      ],
      "metadata": {
        "id": "C5DLSV54MbvO"
      }
    },
    {
      "cell_type": "code",
      "source": [
        "model_glove = RandomForestClassifier(random_state=42)\n",
        "model_glove.fit(X_train_glove, y_train_glove)\n",
        "y_pred_glove = model_glove.predict(X_val_glove)\n",
        "print(classification_report(y_val_glove, y_pred_glove))"
      ],
      "metadata": {
        "colab": {
          "base_uri": "https://localhost:8080/"
        },
        "outputId": "699aa44d-ff6a-4a1f-adce-936f1b4d9c9f",
        "id": "B-KAtNxbMbvP"
      },
      "execution_count": null,
      "outputs": [
        {
          "output_type": "stream",
          "name": "stdout",
          "text": [
            "              precision    recall  f1-score   support\n",
            "\n",
            "           0       0.82      0.56      0.67        48\n",
            "           1       0.62      0.85      0.72        40\n",
            "\n",
            "    accuracy                           0.69        88\n",
            "   macro avg       0.72      0.71      0.69        88\n",
            "weighted avg       0.73      0.69      0.69        88\n",
            "\n"
          ]
        }
      ]
    },
    {
      "cell_type": "markdown",
      "source": [
        "# **Paso 4: Predicción con el modelo**"
      ],
      "metadata": {
        "id": "JTwBIPdMc0SH"
      }
    },
    {
      "cell_type": "code",
      "source": [
        "test_metrics_precision_bow = []\n",
        "test_metrics_recall_bow = []\n",
        "test_metrics_f1_score_bow = []\n",
        "test_metrics_accuracy_bow = []\n",
        "\n",
        "test_metrics_precision_tfidf = []\n",
        "test_metrics_recall_tfidf = []\n",
        "test_metrics_f1_score_tfidf = []\n",
        "test_metrics_accuracy_tfidf = []\n",
        "\n",
        "test_metrics_precision_cbow = []\n",
        "test_metrics_recall_cbow = []\n",
        "test_metrics_f1_score_cbow = []\n",
        "test_metrics_accuracy_cbow = []\n",
        "\n",
        "test_metrics_precision_skipgram = []\n",
        "test_metrics_recall_skipgram = []\n",
        "test_metrics_f1_score_skipgram = []\n",
        "test_metrics_accuracy_skipgram = []\n",
        "\n",
        "test_metrics_precision_fasttext = []\n",
        "test_metrics_recall_fasttext = []\n",
        "test_metrics_f1_score_fasttext = []\n",
        "test_metrics_accuracy_fasttext = []\n",
        "\n",
        "test_metrics_precision_glove = []\n",
        "test_metrics_recall_glove = []\n",
        "test_metrics_f1_score_glove = []\n",
        "test_metrics_accuracy_glove = []\n",
        "\n",
        "for i in range(100):\n",
        "  df_sample = test_df.sample(31)\n",
        "  #bow\n",
        "  X_test_bow = df_sample['vectores_bow'].apply(lambda x: np.array(eval(x))).tolist()\n",
        "  y_test_bow = df_sample['class'].to_list()\n",
        "  y_pred_bow = model_bow.predict(X_test_bow)\n",
        "  precision_bow = classification_report(y_test_bow, y_pred_bow, output_dict=True)['weighted avg']['precision']\n",
        "  recall_bow = classification_report(y_test_bow, y_pred_bow, output_dict=True)['weighted avg']['recall']\n",
        "  f1_score_bow = classification_report(y_test_bow, y_pred_bow, output_dict=True)['weighted avg']['f1-score']\n",
        "  accuracy_bow = classification_report(y_test_bow, y_pred_bow, output_dict=True)['accuracy']\n",
        "  test_metrics_precision_bow.append(precision_bow)\n",
        "  test_metrics_recall_bow.append(recall_bow)\n",
        "  test_metrics_f1_score_bow.append(f1_score_bow)\n",
        "  test_metrics_accuracy_bow.append(accuracy_bow)\n",
        "\n",
        "  #tfidf\n",
        "  X_test_tfidf = df_sample['tfidf'].apply(lambda x: np.array(eval(x))).tolist()\n",
        "  y_test_tfidf = df_sample['class'].to_list()\n",
        "  y_pred_tfidf = model_tfidf.predict(X_test_tfidf)\n",
        "  precision_tfidf = classification_report(y_test_tfidf, y_pred_tfidf, output_dict=True)['weighted avg']['precision']\n",
        "  recall_tfidf = classification_report(y_test_tfidf, y_pred_tfidf, output_dict=True)['weighted avg']['recall']\n",
        "  f1_score_tfidf = classification_report(y_test_tfidf, y_pred_tfidf, output_dict=True)['weighted avg']['f1-score']\n",
        "  accuracy_tfidf = classification_report(y_test_tfidf, y_pred_tfidf, output_dict=True)['accuracy']\n",
        "  test_metrics_precision_tfidf.append(precision_tfidf)\n",
        "  test_metrics_recall_tfidf.append(recall_tfidf)\n",
        "  test_metrics_f1_score_tfidf.append(f1_score_tfidf)\n",
        "  test_metrics_accuracy_tfidf.append(accuracy_tfidf)\n",
        "\n",
        "  #cbow\n",
        "  X_test_cbow = df_sample['cbow_embedding'].apply(\n",
        "    lambda x: np.array(x.strip(\"[]\").split(), dtype=float)\n",
        ").tolist()\n",
        "\n",
        "  y_test_cbow = df_sample['class'].to_list()\n",
        "  y_pred_cbow = model_cbow.predict(X_test_cbow)\n",
        "  precision_cbow = classification_report(y_test_cbow, y_pred_cbow, output_dict=True)['weighted avg']['precision']\n",
        "  recall_cbow = classification_report(y_test_cbow, y_pred_cbow, output_dict=True)['weighted avg']['recall']\n",
        "  f1_score_cbow = classification_report(y_test_cbow, y_pred_cbow, output_dict=True)['weighted avg']['f1-score']\n",
        "  accuracy_cbow = classification_report(y_test_cbow, y_pred_cbow, output_dict=True)['accuracy']\n",
        "  test_metrics_precision_cbow.append(precision_cbow)\n",
        "  test_metrics_recall_cbow.append(recall_cbow)\n",
        "  test_metrics_f1_score_cbow.append(f1_score_cbow)\n",
        "  test_metrics_accuracy_cbow.append(accuracy_cbow)\n",
        "\n",
        "  #skipgram\n",
        "  X_test_skipgram = df_sample['skipgram_embedding'].apply(\n",
        "    lambda x: np.array(x.strip(\"[]\").split(), dtype=float)\n",
        ").tolist()\n",
        "\n",
        "  y_test_skipgram = df_sample['class'].to_list()\n",
        "  y_pred_skipgram = model_skipgram.predict(X_test_skipgram)\n",
        "  precision_skipgram = classification_report(y_test_skipgram, y_pred_skipgram, output_dict=True)['weighted avg']['precision']\n",
        "  recall_skipgram = classification_report(y_test_skipgram, y_pred_skipgram, output_dict=True)['weighted avg']['recall']\n",
        "  f1_score_skipgram = classification_report(y_test_skipgram, y_pred_skipgram, output_dict=True)['weighted avg']['f1-score']\n",
        "  accuracy_skipgram = classification_report(y_test_skipgram, y_pred_skipgram, output_dict=True)['accuracy']\n",
        "  test_metrics_precision_skipgram.append(precision_skipgram)\n",
        "  test_metrics_recall_skipgram.append(recall_skipgram)\n",
        "  test_metrics_f1_score_skipgram.append(f1_score_skipgram)\n",
        "  test_metrics_accuracy_skipgram.append(accuracy_skipgram)\n",
        "\n",
        "  #fasttext\n",
        "  X_test_fasttext = df_sample['fasttext_embedding'].apply(\n",
        "    lambda x: np.array(x.strip(\"[]\").split(), dtype=float)\n",
        ").tolist()\n",
        "\n",
        "  y_test_fasttext = df_sample['class'].to_list()\n",
        "  y_pred_fasttext = model_fasttext.predict(X_test_fasttext)\n",
        "  precision_fasttext = classification_report(y_test_fasttext, y_pred_fasttext, output_dict=True)['weighted avg']['precision']\n",
        "  recall_fasttext = classification_report(y_test_fasttext, y_pred_fasttext, output_dict=True)['weighted avg']['recall']\n",
        "  f1_score_fasttext = classification_report(y_test_fasttext, y_pred_fasttext, output_dict=True)['weighted avg']['f1-score']\n",
        "  accuracy_fasttext = classification_report(y_test_fasttext, y_pred_fasttext, output_dict=True)['accuracy']\n",
        "  test_metrics_precision_fasttext.append(precision_fasttext)\n",
        "  test_metrics_recall_fasttext.append(recall_fasttext)\n",
        "  test_metrics_f1_score_fasttext.append(f1_score_fasttext)\n",
        "  test_metrics_accuracy_fasttext.append(accuracy_fasttext)\n",
        "\n",
        "\n",
        "  #glove\n",
        "  X_test_glove = df_sample['glove_embedding'].apply(\n",
        "    lambda x: np.array(x.strip(\"[]\").split(), dtype=float)\n",
        ").tolist()\n",
        "\n",
        "  y_test_glove = df_sample['class'].to_list()\n",
        "  y_pred_glove = model_glove.predict(X_test_glove)\n",
        "  precision_glove = classification_report(y_test_glove, y_pred_glove, output_dict=True)['weighted avg']['precision']\n",
        "  recall_glove = classification_report(y_test_glove, y_pred_glove, output_dict=True)['weighted avg']['recall']\n",
        "  f1_score_glove = classification_report(y_test_glove, y_pred_glove, output_dict=True)['weighted avg']['f1-score']\n",
        "  accuracy_glove = classification_report(y_test_glove, y_pred_glove, output_dict=True)['accuracy']\n",
        "  test_metrics_precision_glove.append(precision_glove)\n",
        "  test_metrics_recall_glove.append(recall_glove)\n",
        "  test_metrics_f1_score_glove.append(f1_score_glove)\n",
        "  test_metrics_accuracy_glove.append(accuracy_glove)\n",
        "\n",
        "\n",
        "metrics = {\n",
        "    #bow\n",
        "    'precision_bow': test_metrics_precision_bow,\n",
        "    'recall_bow': test_metrics_recall_bow,\n",
        "    'f1_score_bow': test_metrics_f1_score_bow,\n",
        "    'accuracy_bow': test_metrics_accuracy_bow,\n",
        "     #tfidf\n",
        "    'precision_tfidf': test_metrics_precision_tfidf,\n",
        "    'recall_tfidf': test_metrics_recall_tfidf,\n",
        "    'f1_score_tfidf': test_metrics_f1_score_tfidf,\n",
        "    'accuracy_tfidf': test_metrics_accuracy_tfidf,\n",
        "    # w2v cbow\n",
        "    'precision_cbow': test_metrics_precision_cbow,\n",
        "    'recall_cbow': test_metrics_recall_cbow,\n",
        "    'f1_score_cbow': test_metrics_f1_score_cbow,\n",
        "    'accuracy_cbow': test_metrics_accuracy_cbow,\n",
        "    #w2v skipgram\n",
        "    'precision_skipgram': test_metrics_precision_skipgram,\n",
        "    'recall_skipgram': test_metrics_recall_skipgram,\n",
        "    'f1_score_skipgram': test_metrics_f1_score_skipgram,\n",
        "    'accuracy_skipgram': test_metrics_accuracy_skipgram,\n",
        "    #fasttext\n",
        "    'precision_fasttext': test_metrics_precision_fasttext,\n",
        "    'recall_fasttext': test_metrics_recall_fasttext,\n",
        "    'f1_score_fasttext': test_metrics_f1_score_fasttext,\n",
        "    'accuracy_fasttext': test_metrics_accuracy_fasttext,\n",
        "    #glove\n",
        "    'precision_glove': test_metrics_precision_glove,\n",
        "    'recall_glove': test_metrics_recall_glove,\n",
        "    'f1_score_glove': test_metrics_f1_score_glove,\n",
        "    'accuracy': test_metrics_accuracy_glove\n",
        "\n",
        "}\n",
        "\n",
        "df_metrics = pd.DataFrame(metrics)\n",
        "print(df_metrics)"
      ],
      "metadata": {
        "colab": {
          "base_uri": "https://localhost:8080/"
        },
        "id": "EDoA_bjXfx_X",
        "outputId": "ffce9477-20d6-4d12-8b45-0fb00d2c1051"
      },
      "execution_count": null,
      "outputs": [
        {
          "output_type": "stream",
          "name": "stdout",
          "text": [
            "    precision_bow  recall_bow  f1_score_bow  accuracy_bow  precision_tfidf  \\\n",
            "0        0.851019    0.838710      0.836662      0.838710         0.782014   \n",
            "1        0.878763    0.870968      0.871237      0.870968         0.920304   \n",
            "2        0.876758    0.870968      0.870155      0.870968         0.877112   \n",
            "3        0.901328    0.870968      0.871505      0.870968         0.867572   \n",
            "4        0.851019    0.838710      0.836662      0.838710         0.804147   \n",
            "..            ...         ...           ...           ...              ...   \n",
            "95       0.895545    0.870968      0.867006      0.870968         0.800261   \n",
            "96       0.905511    0.903226      0.903428      0.903226         0.899642   \n",
            "97       0.810753    0.806452      0.790673      0.806452         0.779156   \n",
            "98       0.874780    0.870968      0.868987      0.870968         0.874780   \n",
            "99       0.819599    0.774194      0.776553      0.774194         0.802316   \n",
            "\n",
            "    recall_tfidf  f1_score_tfidf  accuracy_tfidf  precision_cbow  recall_cbow  \\\n",
            "0       0.741935        0.730051        0.741935        0.646697     0.612903   \n",
            "1       0.903226        0.903226        0.903226        0.719648     0.677419   \n",
            "2       0.838710        0.833479        0.838710        0.731183     0.709677   \n",
            "3       0.806452        0.805242        0.806452        0.828446     0.709677   \n",
            "4       0.774194        0.766870        0.774194        0.731183     0.709677   \n",
            "..           ...             ...             ...             ...          ...   \n",
            "95      0.774194        0.764124        0.774194        0.776648     0.741935   \n",
            "96      0.870968        0.870430        0.870968        0.792082     0.741935   \n",
            "97      0.774194        0.748570        0.774194        0.766705     0.774194   \n",
            "98      0.870968        0.868987        0.870968        0.640778     0.645161   \n",
            "99      0.741935        0.743548        0.741935        0.599078     0.483871   \n",
            "\n",
            "    ...  f1_score_skipgram  accuracy_skipgram  precision_fasttext  \\\n",
            "0   ...           0.806452           0.806452            0.744968   \n",
            "1   ...           0.870968           0.870968            0.832368   \n",
            "2   ...           0.806048           0.806452            0.839794   \n",
            "3   ...           0.903833           0.903226            0.879839   \n",
            "4   ...           0.804012           0.806452            0.711156   \n",
            "..  ...                ...                ...                 ...   \n",
            "95  ...           0.867006           0.870968            0.824270   \n",
            "96  ...           0.935484           0.935484            0.813978   \n",
            "97  ...           0.780235           0.774194            0.702672   \n",
            "98  ...           0.806452           0.806452            0.777718   \n",
            "99  ...           0.744693           0.741935            0.794355   \n",
            "\n",
            "    recall_fasttext  f1_score_fasttext  accuracy_fasttext  precision_glove  \\\n",
            "0          0.741935           0.740309           0.741935         0.613179   \n",
            "1          0.806452           0.805645           0.806452         0.832368   \n",
            "2          0.838710           0.838373           0.838710         0.716044   \n",
            "3          0.870968           0.871781           0.870968         0.702901   \n",
            "4          0.709677           0.709677           0.709677         0.648557   \n",
            "..              ...                ...                ...              ...   \n",
            "95         0.806452           0.800509           0.806452         0.643507   \n",
            "96         0.806452           0.806855           0.806452         0.765095   \n",
            "97         0.709677           0.705413           0.709677         0.677419   \n",
            "98         0.774194           0.775149           0.774194         0.772920   \n",
            "99         0.774194           0.777061           0.774194         0.785937   \n",
            "\n",
            "    recall_glove  f1_score_glove  accuracy  \n",
            "0       0.612903        0.610464  0.612903  \n",
            "1       0.806452        0.805645  0.806452  \n",
            "2       0.709677        0.705991  0.709677  \n",
            "3       0.677419        0.678763  0.677419  \n",
            "4       0.645161        0.640655  0.645161  \n",
            "..           ...             ...       ...  \n",
            "95      0.645161        0.643659  0.645161  \n",
            "96      0.741935        0.740860  0.741935  \n",
            "97      0.677419        0.677419  0.677419  \n",
            "98      0.774194        0.772729  0.774194  \n",
            "99      0.709677        0.709677  0.709677  \n",
            "\n",
            "[100 rows x 24 columns]\n"
          ]
        }
      ]
    },
    {
      "cell_type": "code",
      "source": [
        "descriptions = df_metrics.describe()\n",
        "descriptions.to_csv('test_metrics_descriptions.tsv', sep='\\t')"
      ],
      "metadata": {
        "id": "ghAWy-Hxek0Q"
      },
      "execution_count": null,
      "outputs": []
    },
    {
      "cell_type": "code",
      "source": [
        "print(df_metrics.describe())"
      ],
      "metadata": {
        "colab": {
          "base_uri": "https://localhost:8080/"
        },
        "id": "jrUuatakheo2",
        "outputId": "7961ae2a-238c-4c8e-b245-a322dd75a78e"
      },
      "execution_count": null,
      "outputs": [
        {
          "output_type": "stream",
          "name": "stdout",
          "text": [
            "       precision_bow  recall_bow  f1_score_bow  accuracy_bow  precision_tfidf  \\\n",
            "count     100.000000  100.000000    100.000000    100.000000       100.000000   \n",
            "mean        0.876857    0.862903      0.861059      0.862903         0.869009   \n",
            "std         0.047902    0.052352      0.053820      0.052352         0.044850   \n",
            "min         0.752995    0.741935      0.730051      0.741935         0.733995   \n",
            "25%         0.844351    0.838710      0.835502      0.838710         0.848817   \n",
            "50%         0.878763    0.870968      0.868328      0.870968         0.877112   \n",
            "75%         0.904032    0.903226      0.902023      0.903226         0.896774   \n",
            "max         0.970430    0.967742      0.968030      0.967742         0.969278   \n",
            "\n",
            "       recall_tfidf  f1_score_tfidf  accuracy_tfidf  precision_cbow  \\\n",
            "count    100.000000      100.000000      100.000000      100.000000   \n",
            "mean       0.837742        0.832891        0.837742        0.713968   \n",
            "std        0.056239        0.059492        0.056239        0.080947   \n",
            "min        0.709677        0.672486        0.709677        0.529488   \n",
            "25%        0.806452        0.801799        0.806452        0.650645   \n",
            "50%        0.838710        0.835296        0.838710        0.715673   \n",
            "75%        0.870968        0.869076        0.870968        0.776648   \n",
            "max        0.967742        0.967367        0.967742        0.864516   \n",
            "\n",
            "       recall_cbow  ...  f1_score_skipgram  accuracy_skipgram  \\\n",
            "count   100.000000  ...         100.000000         100.000000   \n",
            "mean      0.675806  ...           0.817187           0.817097   \n",
            "std       0.071085  ...           0.057913           0.057824   \n",
            "min       0.483871  ...           0.677419           0.677419   \n",
            "25%       0.645161  ...           0.774910           0.774194   \n",
            "50%       0.677419  ...           0.807465           0.806452   \n",
            "75%       0.709677  ...           0.868921           0.870968   \n",
            "max       0.806452  ...           0.936474           0.935484   \n",
            "\n",
            "       precision_fasttext  recall_fasttext  f1_score_fasttext  \\\n",
            "count          100.000000       100.000000         100.000000   \n",
            "mean             0.805232         0.794516           0.792830   \n",
            "std              0.055262         0.055335           0.056350   \n",
            "min              0.702672         0.677419           0.662564   \n",
            "25%              0.758349         0.741935           0.741126   \n",
            "50%              0.808453         0.806452           0.802316   \n",
            "75%              0.841129         0.838710           0.838457   \n",
            "max              0.923963         0.903226           0.905109   \n",
            "\n",
            "       accuracy_fasttext  precision_glove  recall_glove  f1_score_glove  \\\n",
            "count         100.000000       100.000000    100.000000      100.000000   \n",
            "mean            0.794516         0.715717      0.702581        0.700478   \n",
            "std             0.055335         0.076551      0.071116        0.072053   \n",
            "min             0.677419         0.523460      0.516129        0.505888   \n",
            "25%             0.741935         0.671065      0.645161        0.644786   \n",
            "50%             0.806452         0.719603      0.709677        0.707857   \n",
            "75%             0.838710         0.775340      0.741935        0.742749   \n",
            "max             0.903226         0.881154      0.838710        0.837663   \n",
            "\n",
            "         accuracy  \n",
            "count  100.000000  \n",
            "mean     0.702581  \n",
            "std      0.071116  \n",
            "min      0.516129  \n",
            "25%      0.645161  \n",
            "50%      0.709677  \n",
            "75%      0.741935  \n",
            "max      0.838710  \n",
            "\n",
            "[8 rows x 24 columns]\n"
          ]
        }
      ]
    },
    {
      "cell_type": "code",
      "source": [
        "##Descomentar si se quieren guardar las métricas de evaluación\n",
        "df_metrics.to_csv('test_metrics_final.tsv', sep='\\t', index=False)"
      ],
      "metadata": {
        "id": "GCULR7Xmfx9D"
      },
      "execution_count": null,
      "outputs": []
    },
    {
      "cell_type": "markdown",
      "source": [
        "# **Paso 4 : Visualización de todas las métricas de evaluación**\n",
        "\n"
      ],
      "metadata": {
        "id": "Xl2aWTFebqLR"
      }
    },
    {
      "cell_type": "code",
      "source": [
        "precision = df_metrics.filter(regex='precision')\n",
        "recall = df_metrics.filter(regex='recall')\n",
        "f1_score = df_metrics.filter(regex='f1_score')\n",
        "accuracy = df_metrics.filter(regex='accuracy')"
      ],
      "metadata": {
        "id": "22mQGcZ-pJeT"
      },
      "execution_count": null,
      "outputs": []
    },
    {
      "cell_type": "code",
      "source": [
        "def plot_boxplot(df, columns, title=\"Metrics\", colors=None, labels=None):\n",
        "    data = df[columns].dropna()\n",
        "\n",
        "    if colors is None:\n",
        "        colors = sns.color_palette(\"pastel\", len(columns))\n",
        "\n",
        "    if labels is None:\n",
        "        labels = columns\n",
        "        # print(labels)\n",
        "\n",
        "    plt.figure(figsize=(8, 6))\n",
        "    sns.boxplot(data=data, palette=colors)\n",
        "\n",
        "    # Replace column names with custom labels\n",
        "    plt.xticks(ticks=range(len(labels)), labels=labels, fontsize=12)\n",
        "    plt.title(title, fontsize=16, fontweight='bold')\n",
        "    plt.ylabel(\"Values\", fontsize=14)\n",
        "    plt.xlabel(\"\", fontsize=14)\n",
        "\n",
        "    # Style the plot\n",
        "    sns.despine()\n",
        "    plt.tight_layout()\n",
        "    plt.savefig(f'{title}.pdf')\n",
        "    plt.show()\n"
      ],
      "metadata": {
        "id": "3ckrW-QKbtgr"
      },
      "execution_count": null,
      "outputs": []
    },
    {
      "cell_type": "code",
      "source": [
        "custom_labels = ['BoW','TF-IDF', 'W2V CBOW', 'W2V SG', 'FastText', 'GloVe']\n",
        "plot_boxplot(df_metrics, ['accuracy_bow', 'accuracy_tfidf', 'accuracy_cbow', 'accuracy_skipgram', 'accuracy_fasttext', 'accuracy' ], title=f\"Accuracy\", labels=custom_labels)"
      ],
      "metadata": {
        "colab": {
          "base_uri": "https://localhost:8080/",
          "height": 607
        },
        "id": "iOKm50SMHHE9",
        "outputId": "a923233a-bd05-4b0d-b206-b58ca363aaa2"
      },
      "execution_count": null,
      "outputs": [
        {
          "output_type": "display_data",
          "data": {
            "text/plain": [
              "<Figure size 800x600 with 1 Axes>"
            ],
            "image/png": "[encoded data removed]"
          },
          "metadata": {}
        }
      ]
    },
    {
      "cell_type": "code",
      "source": [
        "print(precision.columns)"
      ],
      "metadata": {
        "colab": {
          "base_uri": "https://localhost:8080/"
        },
        "id": "zKv-1Cn-qXfz",
        "outputId": "9903ee5c-1414-4eb9-9245-c6b39f55e229"
      },
      "execution_count": null,
      "outputs": [
        {
          "output_type": "stream",
          "name": "stdout",
          "text": [
            "Index(['precision_bow', 'precision_tfidf', 'precision_cbow',\n",
            "       'precision_skipgram', 'precision_fasttext', 'precision_glove'],\n",
            "      dtype='object')\n"
          ]
        }
      ]
    },
    {
      "cell_type": "code",
      "source": [
        "custom_labels = ['BoW','TF-IDF', 'W2V CBOW', 'W2V SG', 'FastText', 'GloVe']\n",
        "plot_boxplot(df_metrics, ['precision_bow', 'precision_tfidf', 'precision_cbow', 'precision_skipgram', 'precision_fasttext', 'precision_glove' ], title=f\"Precision\", labels=custom_labels)"
      ],
      "metadata": {
        "colab": {
          "base_uri": "https://localhost:8080/",
          "height": 607
        },
        "id": "2J30mUqGqppO",
        "outputId": "91ae4236-9764-4785-d864-af1bedb52b15"
      },
      "execution_count": null,
      "outputs": [
        {
          "output_type": "display_data",
          "data": {
            "text/plain": [
              "<Figure size 800x600 with 1 Axes>"
            ],
            "image/png": "[encoded data removed]"
          },
          "metadata": {}
        }
      ]
    },
    {
      "cell_type": "code",
      "source": [
        "custom_labels = ['BoW','TF-IDF', 'W2V CBOW', 'W2V SG', 'FastText', 'GloVe']\n",
        "plot_boxplot(df_metrics, ['recall_bow', 'recall_tfidf', 'recall_cbow', 'recall_skipgram', 'recall_fasttext', 'recall_glove'], title=f\"Recall\", labels=custom_labels)"
      ],
      "metadata": {
        "colab": {
          "base_uri": "https://localhost:8080/",
          "height": 607
        },
        "id": "NgC29aI0Hmdu",
        "outputId": "14a61284-92a9-4e72-ae25-4c34e8d4aeee"
      },
      "execution_count": null,
      "outputs": [
        {
          "output_type": "display_data",
          "data": {
            "text/plain": [
              "<Figure size 800x600 with 1 Axes>"
            ],
            "image/png": "[encoded data removed]"
          },
          "metadata": {}
        }
      ]
    },
    {
      "cell_type": "code",
      "source": [
        "custom_labels = ['BoW','TF-IDF', 'W2V CBOW', 'W2V SG', 'FastText', 'GloVe']\n",
        "plot_boxplot(df_metrics, ['f1_score_bow', 'f1_score_tfidf', 'f1_score_cbow', 'f1_score_skipgram', 'f1_score_fasttext', 'f1_score_glove' ], title=f\"F1-Score\", labels=custom_labels)"
      ],
      "metadata": {
        "colab": {
          "base_uri": "https://localhost:8080/",
          "height": 607
        },
        "id": "z-Yl73dhIIy0",
        "outputId": "2e9c1c7f-9768-4947-aa97-2aa4710d26c3"
      },
      "execution_count": null,
      "outputs": [
        {
          "output_type": "display_data",
          "data": {
            "text/plain": [
              "<Figure size 800x600 with 1 Axes>"
            ],
            "image/png": "[encoded data removed]"
          },
          "metadata": {}
        }
      ]
    },
    {
      "cell_type": "markdown",
      "source": [
        "# **Paso 5: Pruebas de hipótesis**"
      ],
      "metadata": {
        "id": "Sk_d-skwrUpq"
      }
    },
    {
      "cell_type": "markdown",
      "source": [
        "### **Dunnet**"
      ],
      "metadata": {
        "id": "kFgwMpXCvxxK"
      }
    },
    {
      "cell_type": "code",
      "source": [
        "from statsmodels.stats.multicomp import MultiComparison\n",
        "\n",
        "columnas_f1 = ['f1_score_bow','f1_score_tfidf', 'f1_score_cbow', 'f1_score_skipgram', 'f1_score_fasttext', 'f1_score_glove'] #\n",
        "\n",
        "f1_scores = np.concatenate([df_metrics[col].values for col in columnas_f1])\n",
        "tecnicas = sum([[col.replace('f1_score','')]*len(df_metrics) for col in columnas_f1], [])\n",
        "\n",
        "df_long = pd.DataFrame({'tecnica': tecnicas, 'f1_score': f1_scores})\n",
        "\n",
        "# Técnica de referencia (la que obtuvo mejor F1)\n",
        "referencia = 'f1_score_bow'\n",
        "\n",
        "# Comparaciones múltiples usando Tukey HSD como aproximación a Dunnett\n",
        "mc_comparison = MultiComparison(df_long['f1_score'], df_long['tecnica'])\n",
        "tukey_result = mc_comparison.tukeyhsd()\n",
        "\n",
        "# Mostrar todas las comparaciones\n",
        "print(tukey_result.summary())\n",
        "\n",
        "# Filtrar solo las comparaciones que involucran la técnica de referencia\n",
        "comparaciones_referencia = [row for row in tukey_result._results_table.data[1:] if referencia in row[0]]\n",
        "for row in comparaciones_referencia:\n",
        "    print(row)\n"
      ],
      "metadata": {
        "colab": {
          "base_uri": "https://localhost:8080/"
        },
        "id": "Qw25meS4v132",
        "outputId": "77791ab8-c12a-486d-b11a-fe62a7b9ab13"
      },
      "execution_count": null,
      "outputs": [
        {
          "output_type": "stream",
          "name": "stdout",
          "text": [
            "   Multiple Comparison of Means - Tukey HSD, FWER=0.05    \n",
            "==========================================================\n",
            "  group1    group2  meandiff p-adj   lower   upper  reject\n",
            "----------------------------------------------------------\n",
            "     _bow     _cbow   -0.203    0.0 -0.2286 -0.1774   True\n",
            "     _bow _fasttext  -0.0682    0.0 -0.0939 -0.0426   True\n",
            "     _bow    _glove  -0.1606    0.0 -0.1862  -0.135   True\n",
            "     _bow _skipgram  -0.0439    0.0 -0.0695 -0.0182   True\n",
            "     _bow    _tfidf  -0.0282 0.0217 -0.0538 -0.0025   True\n",
            "    _cbow _fasttext   0.1348    0.0  0.1092  0.1604   True\n",
            "    _cbow    _glove   0.0424    0.0  0.0168  0.0681   True\n",
            "    _cbow _skipgram   0.1591    0.0  0.1335  0.1848   True\n",
            "    _cbow    _tfidf   0.1748    0.0  0.1492  0.2005   True\n",
            "_fasttext    _glove  -0.0924    0.0  -0.118 -0.0667   True\n",
            "_fasttext _skipgram   0.0244 0.0734 -0.0013    0.05  False\n",
            "_fasttext    _tfidf   0.0401 0.0001  0.0144  0.0657   True\n",
            "   _glove _skipgram   0.1167    0.0  0.0911  0.1423   True\n",
            "   _glove    _tfidf   0.1324    0.0  0.1068   0.158   True\n",
            "_skipgram    _tfidf   0.0157  0.498 -0.0099  0.0413  False\n",
            "----------------------------------------------------------\n"
          ]
        }
      ]
    },
    {
      "cell_type": "markdown",
      "source": [
        "## Intervalos de confianza"
      ],
      "metadata": {
        "id": "z5BVqE9KJsWc"
      }
    },
    {
      "cell_type": "code",
      "source": [
        "def confidence_interval(mean, std, n):\n",
        "  confidence = 0.95\n",
        "  alpha = 1 - confidence\n",
        "  se = std / np.sqrt(n)\n",
        "  # Z value for 95%\n",
        "  z = stats.norm.ppf(1 - alpha / 2)\n",
        "  # confidence interval\n",
        "  lower = mean - z * se\n",
        "  upper = mean + z * se\n",
        "  print(f\"Intervalo de confianza del 95%: [{lower:.4f}, {upper:.4f}]\")\n",
        "  return lower, upper"
      ],
      "metadata": {
        "id": "dAnU68_aJu4Y"
      },
      "execution_count": null,
      "outputs": []
    },
    {
      "cell_type": "code",
      "source": [
        "bow = confidence_interval(df_metrics['f1_score_bow'].mean(), df_metrics['f1_score_bow'].std(), 100)\n",
        "tfidf = confidence_interval(df_metrics['f1_score_tfidf'].mean(), df_metrics['f1_score_tfidf'].std(), 100)\n",
        "cbow = confidence_interval(df_metrics['f1_score_cbow'].mean(), df_metrics['f1_score_cbow'].std(), 100)\n",
        "skipgram = confidence_interval(df_metrics['f1_score_skipgram'].mean(), df_metrics['f1_score_skipgram'].std(), 100)\n",
        "fasttext = confidence_interval(df_metrics['f1_score_fasttext'].mean(), df_metrics['f1_score_fasttext'].std(), 100)\n",
        "glove = confidence_interval(df_metrics['f1_score_glove'].mean(), df_metrics['f1_score_glove'].std(), 100)"
      ],
      "metadata": {
        "colab": {
          "base_uri": "https://localhost:8080/"
        },
        "id": "nOvA0Yx8JxNC",
        "outputId": "553ff450-e78c-4a8f-aacd-633404afed04"
      },
      "execution_count": null,
      "outputs": [
        {
          "output_type": "stream",
          "name": "stdout",
          "text": [
            "Intervalo de confianza del 95%: [0.8505, 0.8716]\n",
            "Intervalo de confianza del 95%: [0.8212, 0.8446]\n",
            "Intervalo de confianza del 95%: [0.6429, 0.6732]\n",
            "Intervalo de confianza del 95%: [0.8058, 0.8285]\n",
            "Intervalo de confianza del 95%: [0.7818, 0.8039]\n",
            "Intervalo de confianza del 95%: [0.6864, 0.7146]\n"
          ]
        }
      ]
    }
  ]
}